{
 "cells": [
  {
   "cell_type": "markdown",
   "id": "0a08e4f8",
   "metadata": {},
   "source": [
    "# TP SD-TSIA211\n",
    "##### Lécluse Simon & Marcheville Gaël"
   ]
  },
  {
   "cell_type": "code",
   "execution_count": 1,
   "id": "636f561b",
   "metadata": {},
   "outputs": [],
   "source": [
    "import tp_reglog_utils as utils\n",
    "import scipy\n",
    "import numpy as np\n",
    "import matplotlib.pyplot as plt"
   ]
  },
  {
   "cell_type": "markdown",
   "id": "0e3e7787",
   "metadata": {},
   "source": [
    "## 3. Tikhonov regularization"
   ]
  },
  {
   "cell_type": "markdown",
   "id": "997d227f",
   "metadata": {},
   "source": [
    "### Question 3.1"
   ]
  },
  {
   "cell_type": "markdown",
   "id": "c66cd85a",
   "metadata": {},
   "source": [
    "The partial derivative of $f_1$ with respect to $w_0$ is :\n",
    "\n",
    "$$\\frac{\\partial f_1}{\\partial w_0} = \\frac{1}{n} \\sum_{i=1}^{n} -\\frac{y_i}{1+\\exp(y_i(x_i^Tw+w_0))}$$\n",
    "\n",
    "The partial derivative of $f_1$ with respect to $w_i$ is :\n",
    "\n",
    "$$\\frac{\\partial f_1}{\\partial w_i} = \\frac{1}{n} \\sum_{i=1}^{n} -\\frac{y_i x_i . e_i}{1+\\exp(y_i(x_i^Tw+w_0))} + \\rho w_i$$\n",
    "\n",
    "Therefore the gradient of $f_1$ is :\n",
    "\n",
    "$$\\nabla f_1(\\tilde{w}) = \\frac{1}{n} \\sum_{i=1}^{n} -\\frac{y_i \\tilde{x_i}}{1+\\exp(y_i\\tilde{x_i}^T \\tilde{w})} + \\rho w $$\n",
    "\n",
    "with $\\tilde w = (w_0, w) = (w_0, w_1, ..., w_p)$  and  $ \\tilde x_i = (1, x_{i, 1}, ... x_{i, p}) $"
   ]
  },
  {
   "cell_type": "markdown",
   "id": "f602efb9",
   "metadata": {},
   "source": [
    "The hessian matrix of $f_1$ is equal to :\n",
    "\n",
    "$$ \\nabla ^2 f_1(\\tilde w) = \\frac {1}{n} \\sum_{i=1}^{n} \\frac{y_i^2 \\tilde{x_i} \\tilde{x_i}^T }{( 1+\\exp(y_i\\tilde{x_i}^T \\tilde{w}) )^2} + \\rho (I_{p+1} - E_{11}) $$\n",
    "\n",
    "We can notice that the matrix is defined positive, because it is a sum of such matrices. Indeed, $x_i x_i^T$ has positive eigen values $\\forall x_i$, and $I_{p+1}$ has also positive eigen values. Hence $f_1$ is convex."
   ]
  },
  {
   "cell_type": "markdown",
   "id": "b1632a2a",
   "metadata": {},
   "source": [
    " "
   ]
  },
  {
   "cell_type": "markdown",
   "id": "105aab55",
   "metadata": {},
   "source": [
    " "
   ]
  },
  {
   "cell_type": "markdown",
   "id": "0d30428c",
   "metadata": {},
   "source": [
    "### Question 3.2"
   ]
  },
  {
   "cell_type": "code",
   "execution_count": 2,
   "id": "e12ac615",
   "metadata": {},
   "outputs": [],
   "source": [
    "def f1(wt):\n",
    "    rho = 1/n\n",
    "    val = 0\n",
    "    for i in range(n):\n",
    "        val += np.log(1 + np.exp(-y[i] * np.dot(Xt[i], wt)))\n",
    "    val = val/n + rho/2 * np.dot(wt[1:].T, wt[1:])\n",
    "    return val\n",
    "\n",
    "def grad_f1(wt):\n",
    "    rho = 1/n\n",
    "    grad = 0\n",
    "    for i in range(n):\n",
    "        grad -= y[i] * Xt[i].T / (1 + np.exp(y[i] * np.dot(Xt[i], wt)))\n",
    "    grad = grad/n + rho * wt\n",
    "    return grad\n",
    "\n",
    "def hess_f1(wt):\n",
    "    rho = 1/n\n",
    "    I = np.eye(len(wt))\n",
    "    I[0, 0] = 0\n",
    "    hess = np.zeros((len(wt), len(wt)))\n",
    "    for i in range(n):\n",
    "        hess += y[i]**2 * np.exp(y[i] *Xt[i] @ wt) / (1 + np.exp(y[i] *Xt[i] @ wt))**2 * np.outer(Xt[i].T, Xt[i])\n",
    "    hess /= n\n",
    "    hess += rho * I\n",
    "    return hess\n"
   ]
  },
  {
   "cell_type": "code",
   "execution_count": 3,
   "id": "fadd07d3",
   "metadata": {},
   "outputs": [],
   "source": [
    "data = utils.load_data(\"tfidf_matrix_97MB.npz\", \"feature_names_97MB.npy\")\n",
    "\n",
    "Xt = data[0]\n",
    "y = data[1]\n",
    "n = len(y)\n"
   ]
  },
  {
   "cell_type": "code",
   "execution_count": 4,
   "id": "fb69b742",
   "metadata": {},
   "outputs": [
    {
     "data": {
      "text/plain": [
       "0.00012892831083053785"
      ]
     },
     "execution_count": 4,
     "metadata": {},
     "output_type": "execute_result"
    }
   ],
   "source": [
    "scipy.optimize.check_grad(f1, grad_f1, np.ones((Xt.shape[1], )))\n"
   ]
  },
  {
   "cell_type": "markdown",
   "id": "702d7ab4",
   "metadata": {},
   "source": [
    "The error is about $10^{-4}$, this validate our calculations for the gradient and the hessian matrix of $f_1$."
   ]
  },
  {
   "cell_type": "code",
   "execution_count": 5,
   "id": "7f22272d",
   "metadata": {},
   "outputs": [
    {
     "data": {
      "text/plain": [
       "array([[0.25      , 0.05359961, 0.05074763, ..., 0.06745536, 0.14326925,\n",
       "        0.096354  ],\n",
       "       [0.05359961, 0.26159167, 0.02377477, ..., 0.01879477, 0.03259928,\n",
       "        0.02012643],\n",
       "       [0.05074763, 0.02377477, 0.26040129, ..., 0.01196662, 0.02506709,\n",
       "        0.02313315],\n",
       "       ...,\n",
       "       [0.06745536, 0.01879477, 0.01196662, ..., 0.2683009 , 0.0423312 ,\n",
       "        0.02748576],\n",
       "       [0.14326925, 0.03259928, 0.02506709, ..., 0.0423312 , 0.33220431,\n",
       "        0.06168203],\n",
       "       [0.096354  , 0.02012643, 0.02313315, ..., 0.02748576, 0.06168203,\n",
       "        0.28723638]])"
      ]
     },
     "execution_count": 5,
     "metadata": {},
     "output_type": "execute_result"
    }
   ],
   "source": [
    "hess_f1(np.zeros((Xt.shape[1], )))"
   ]
  },
  {
   "cell_type": "markdown",
   "id": "2dee4814",
   "metadata": {},
   "source": [
    "### Question 3.3"
   ]
  },
  {
   "cell_type": "code",
   "execution_count": 13,
   "id": "b426ef30",
   "metadata": {},
   "outputs": [],
   "source": [
    "def line_search(xk, grad, hess, step):\n",
    "    hess_inv = np.linalg.inv(hess)\n",
    "    fxk = f1(xk)\n",
    "    gamma_k = 1\n",
    "    x_plus = xk - gamma_k * hess_inv @ grad\n",
    "    cond = fxk + grad @ (x_plus-xk) + 1/(2*gamma_k) * (x_plus-xk).T @ hess @ (x_plus-xk)\n",
    "    i = 0\n",
    "    while f1(x_plus) > cond :\n",
    "        i += 1\n",
    "        gamma_k *= step\n",
    "        x_plus = xk - gamma_k * hess_inv @ grad\n",
    "        cond = fxk + grad @ (x_plus-xk) + 1/(2*gamma_k) * (x_plus-xk).T @ hess @ (x_plus-xk)\n",
    "        #print(f\"line search ; step {i} ; cond = {cond} ; val = {f1(xk)}\")\n",
    "    return gamma_k    \n",
    "\n",
    "def armijo(xk, grad, hess, a, b):\n",
    "    l = 0\n",
    "    hess_inv = np.linalg.inv(hess)\n",
    "    fxk = f1(xk)\n",
    "    gamma_k = b*a**l\n",
    "    x_plus = xk - gamma_k * hess_inv @ grad\n",
    "    cond = fxk - gamma_k * grad @ (x_plus-xk) + gamma_k/2 * (x_plus-xk).T @ hess @ (x_plus-xk)\n",
    "    while f1(x_plus) > cond:\n",
    "        gamma_k = b*a**l\n",
    "        l += 1\n",
    "        x_plus = xk - gamma_k * hess_inv @ grad\n",
    "        cond = fxk - gamma_k * grad @ (x_plus-xk) + gamma_k/2 * (x_plus-xk).T @ hess @ (x_plus-xk)\n",
    "        print(f\"---- armijo search ; step {l} ; cond = {cond} ; gamma = {gamma_k}\")\n",
    "    return gamma_k\n",
    "\n",
    "def newton(x0, eps=10**-4, ITER_MAX=30, print_advance=True, armijo_mod=False, step=0.7, log_plot=False):\n",
    "    xk = x0\n",
    "    k = 0\n",
    "    gamma_k = 1\n",
    "    norm = np.linalg.norm(grad_f1(xk))\n",
    "    grad_norms = [norm]\n",
    "    while norm>eps and k<ITER_MAX :\n",
    "        k += 1\n",
    "        grad = grad_f1(xk)\n",
    "        hess = hess_f1(xk)\n",
    "        \n",
    "        if armijo_mod :\n",
    "            #gamma_k = line_search(xk, grad, hess, np.linalg.inv(hess) @ grad)\n",
    "            gamma_k = armijo(xk, grad, hess, 0.5, 2*gamma_k)\n",
    "        else :\n",
    "            gamma_k = 1\n",
    "        xk = xk - gamma_k * np.linalg.inv(hess) @ grad\n",
    "        \n",
    "        norm = np.linalg.norm(grad)\n",
    "        grad_norms.append(norm)\n",
    "        if print_advance:\n",
    "            print(f\"step {k}, norm = {norm}, value = {f1(xk)}\")\n",
    "    if log_plot:\n",
    "        plt.plot(list(range(k+1)), grad_norms)\n",
    "        plt.yscale(\"log\")\n",
    "        plt.title(\"Evolution of log gradient norm\")\n",
    "        plt.show()\n",
    "    \n",
    "    return xk, grad_norms\n",
    "    "
   ]
  },
  {
   "cell_type": "code",
   "execution_count": 14,
   "id": "3072705c",
   "metadata": {},
   "outputs": [
    {
     "name": "stdout",
     "output_type": "stream",
     "text": [
      "step 1, norm = 1.4950280608255968, value = 0.5723696681703263\n",
      "step 2, norm = 0.18966932407383372, value = 0.5681201923076636\n",
      "step 3, norm = 0.017505388623825, value = 0.5680680092178594\n",
      "step 4, norm = 0.00023557519739635034, value = 0.5680680162241234\n",
      "step 5, norm = 5.0192511215430255e-08, value = 0.5680680158078425\n",
      "step 6, norm = 4.2114304173954656e-10, value = 0.5680680158174481\n",
      "step 7, norm = 9.721943723848784e-12, value = 0.568068015817228\n"
     ]
    },
    {
     "data": {
      "image/png": "[encoded data removed]",
      "text/plain": [
       "<Figure size 432x288 with 1 Axes>"
      ]
     },
     "metadata": {
      "needs_background": "light"
     },
     "output_type": "display_data"
    }
   ],
   "source": [
    "xk, normes = newton(x0=np.zeros((Xt.shape[1], )), \n",
    "       eps=10**-10,\n",
    "       armijo_mod=False,\n",
    "       log_plot=True\n",
    "      )"
   ]
  },
  {
   "cell_type": "code",
   "execution_count": 15,
   "id": "3848e999",
   "metadata": {},
   "outputs": [
    {
     "name": "stderr",
     "output_type": "stream",
     "text": [
      "<ipython-input-2-8973a7a9d0d4>:23: RuntimeWarning: overflow encountered in double_scalars\n",
      "  hess += y[i]**2 * np.exp(y[i] *Xt[i] @ wt) / (1 + np.exp(y[i] *Xt[i] @ wt))**2 * np.outer(Xt[i].T, Xt[i])\n",
      "<ipython-input-2-8973a7a9d0d4>:5: RuntimeWarning: overflow encountered in exp\n",
      "  val += np.log(1 + np.exp(-y[i] * np.dot(Xt[i], wt)))\n",
      "<ipython-input-2-8973a7a9d0d4>:13: RuntimeWarning: overflow encountered in exp\n",
      "  grad -= y[i] * Xt[i].T / (1 + np.exp(y[i] * np.dot(Xt[i], wt)))\n"
     ]
    },
    {
     "name": "stdout",
     "output_type": "stream",
     "text": [
      "step 1, norm = 2.975073967202188, value = inf\n"
     ]
    },
    {
     "name": "stderr",
     "output_type": "stream",
     "text": [
      "<ipython-input-2-8973a7a9d0d4>:23: RuntimeWarning: overflow encountered in exp\n",
      "  hess += y[i]**2 * np.exp(y[i] *Xt[i] @ wt) / (1 + np.exp(y[i] *Xt[i] @ wt))**2 * np.outer(Xt[i].T, Xt[i])\n",
      "<ipython-input-2-8973a7a9d0d4>:23: RuntimeWarning: invalid value encountered in double_scalars\n",
      "  hess += y[i]**2 * np.exp(y[i] *Xt[i] @ wt) / (1 + np.exp(y[i] *Xt[i] @ wt))**2 * np.outer(Xt[i].T, Xt[i])\n"
     ]
    },
    {
     "name": "stdout",
     "output_type": "stream",
     "text": [
      "step 2, norm = 9.15108952174807, value = nan\n",
      "step 3, norm = nan, value = nan\n"
     ]
    },
    {
     "data": {
      "image/png": "[encoded data removed]",
      "text/plain": [
       "<Figure size 432x288 with 1 Axes>"
      ]
     },
     "metadata": {
      "needs_background": "light"
     },
     "output_type": "display_data"
    }
   ],
   "source": [
    "xk, normes = newton(x0=np.ones((Xt.shape[1], )), \n",
    "       eps=10**-4,\n",
    "       armijo_mod=False,\n",
    "       log_plot=True\n",
    "      )"
   ]
  },
  {
   "cell_type": "markdown",
   "id": "6112cc3d",
   "metadata": {},
   "source": [
    "The norm of the gradient is almost constant using Newton's method without linear search, for the initial point (1, ..., 1). Hence it seems that the algorithm won't converge to a minimum."
   ]
  },
  {
   "cell_type": "markdown",
   "id": "6a8edb22",
   "metadata": {},
   "source": [
    "This might be because this algorithm isn't optimal because we are never looking for the best step coefficient, which would considerably improve the efficiency of the algorithm.\n",
    "A line search would here be the solution."
   ]
  },
  {
   "cell_type": "markdown",
   "id": "7e18e02e",
   "metadata": {},
   "source": [
    "### Question 3.5"
   ]
  },
  {
   "cell_type": "code",
   "execution_count": 16,
   "id": "44f5222c",
   "metadata": {},
   "outputs": [
    {
     "name": "stderr",
     "output_type": "stream",
     "text": [
      "<ipython-input-2-8973a7a9d0d4>:23: RuntimeWarning: overflow encountered in double_scalars\n",
      "  hess += y[i]**2 * np.exp(y[i] *Xt[i] @ wt) / (1 + np.exp(y[i] *Xt[i] @ wt))**2 * np.outer(Xt[i].T, Xt[i])\n",
      "<ipython-input-2-8973a7a9d0d4>:5: RuntimeWarning: overflow encountered in exp\n",
      "  val += np.log(1 + np.exp(-y[i] * np.dot(Xt[i], wt)))\n",
      "<ipython-input-2-8973a7a9d0d4>:13: RuntimeWarning: overflow encountered in exp\n",
      "  grad -= y[i] * Xt[i].T / (1 + np.exp(y[i] * np.dot(Xt[i], wt)))\n"
     ]
    },
    {
     "name": "stdout",
     "output_type": "stream",
     "text": [
      "step 1, norm = 2.975073967202188, value = inf\n"
     ]
    },
    {
     "name": "stderr",
     "output_type": "stream",
     "text": [
      "<ipython-input-2-8973a7a9d0d4>:23: RuntimeWarning: overflow encountered in exp\n",
      "  hess += y[i]**2 * np.exp(y[i] *Xt[i] @ wt) / (1 + np.exp(y[i] *Xt[i] @ wt))**2 * np.outer(Xt[i].T, Xt[i])\n",
      "<ipython-input-2-8973a7a9d0d4>:23: RuntimeWarning: invalid value encountered in double_scalars\n",
      "  hess += y[i]**2 * np.exp(y[i] *Xt[i] @ wt) / (1 + np.exp(y[i] *Xt[i] @ wt))**2 * np.outer(Xt[i].T, Xt[i])\n"
     ]
    },
    {
     "name": "stdout",
     "output_type": "stream",
     "text": [
      "step 2, norm = 12.505542885533133, value = nan\n",
      "step 3, norm = nan, value = nan\n"
     ]
    },
    {
     "data": {
      "image/png": "[encoded data removed]",
      "text/plain": [
       "<Figure size 432x288 with 1 Axes>"
      ]
     },
     "metadata": {
      "needs_background": "light"
     },
     "output_type": "display_data"
    }
   ],
   "source": [
    "xk, normes = newton(x0=np.ones((Xt.shape[1], )), \n",
    "       eps=10**-4,\n",
    "       ITER_MAX=50,\n",
    "       armijo_mod=True,\n",
    "       log_plot=True,\n",
    "      )"
   ]
  },
  {
   "cell_type": "markdown",
   "id": "bb569e63",
   "metadata": {},
   "source": [
    "The algorithm doesn't seem to converge to a fix point."
   ]
  },
  {
   "cell_type": "markdown",
   "id": "2cb02fe7",
   "metadata": {},
   "source": [
    "## 4. Regularization for a sparse model"
   ]
  },
  {
   "cell_type": "markdown",
   "id": "071ddb3e",
   "metadata": {},
   "source": [
    "### Question 4.1\n",
    "\n",
    "In order to use Newton's method, the function need to be at least $\\mathcal{C}^2$. Here the norm $\\left\\| w \\right\\| _1$ is not $\\mathcal{C}^1$ because it is a sum of absolute values. Hence we cannot use this method here."
   ]
  },
  {
   "cell_type": "markdown",
   "id": "2da30c44",
   "metadata": {},
   "source": [
    "### Question 4.2"
   ]
  },
  {
   "cell_type": "markdown",
   "id": "1d49f285",
   "metadata": {},
   "source": [
    "We can write the objective function as $F_2 = \\mathcal {f_2 + g_2}$ with :\n",
    "\n",
    "$\\mathcal {f_2} = \\frac{1}{n} \\sum_{i=1}^{n} log(1 + exp(-y_i (x_i^T w + w_0))) \\newline $\n",
    "$\\mathcal {g_2} = \\rho \\left\\| w \\right\\| _1 \\newline $\n",
    "\n",
    "• The formula for $prox_{g_2}$ is : \n",
    "\n",
    "$$prox_{g_2}(x) = argmin_y (\\mathcal{g_2}(y) + \\frac{1}{2} \\rho \\left\\| y-x \\right\\|^2 _2 ) \\newline $$\n",
    "$$prox_{g_2}(x) = (sign(x_i) max( \\vert x_i \\vert - \\rho, 0))_{i \\in \\{1, ..., p\\} }$$\n",
    "\n",
    "• The gradient of $\\mathcal {f_2}$ is : \n",
    "$$\\nabla f_2(\\tilde{w}) = \\frac{1}{n} \\sum_{i=1}^{n} -\\frac{y_i \\tilde{x_i}}{1+\\exp(y_i\\tilde{x_i}^T \\tilde{w})} $$"
   ]
  },
  {
   "cell_type": "markdown",
   "id": "aadad836",
   "metadata": {},
   "source": [
    "### Question 4.3"
   ]
  },
  {
   "cell_type": "code",
   "execution_count": 10,
   "id": "a814776a",
   "metadata": {},
   "outputs": [],
   "source": [
    "def grad_f2(wt):\n",
    "    grad = 0\n",
    "    for i in range(n):\n",
    "        grad -= y[i] * Xt[i].T / (1 + np.exp(y[i] * np.dot(Xt[i], wt)))\n",
    "    grad = grad/n\n",
    "    return grad\n",
    "\n",
    "def hess_f2(wt):\n",
    "    hess = np.zeros((len(wt), len(wt)))\n",
    "    for i in range(n):\n",
    "        hess += y[i]**2 / (1 + np.exp(y[i] *Xt[i] @ wt))**2 * np.outer(Xt[i].T, Xt[i])\n",
    "    hess /= n\n",
    "    return hess\n",
    "\n",
    "def prox_g2(x, rho=0.02):\n",
    "    return np.sign(x) * np.max(np.abs(x) - rho, 0)\n",
    "    "
   ]
  },
  {
   "cell_type": "code",
   "execution_count": 11,
   "id": "e3b14284",
   "metadata": {},
   "outputs": [],
   "source": [
    "def proximal_gradient_descent(x0, eps=10**-4, step=0.5):\n",
    "    xk = x0\n",
    "    k = 0\n",
    "    norm = np.linalg.norm(grad_f2(xk))\n",
    "    grad_norms = [norm]\n",
    "    while norm > eps:\n",
    "        k += 1\n",
    "        grad = grad_f2(xk) ; hess = hess_f2(xk)\n",
    "        gamma_k = line_search(xk, grad, hess, step)\n",
    "        xk = prox_g2(xk - gamma_k * grad)\n",
    "        print(f\"Step = {k}, gradient norm = {norm}\")\n",
    "    return xk    \n",
    "        "
   ]
  },
  {
   "cell_type": "code",
   "execution_count": 12,
   "id": "b7bb9e48",
   "metadata": {},
   "outputs": [
    {
     "name": "stderr",
     "output_type": "stream",
     "text": [
      "<ipython-input-10-d1f25e96ee13>:11: RuntimeWarning: overflow encountered in double_scalars\n",
      "  hess += y[i]**2 / (1 + np.exp(y[i] *Xt[i] @ wt))**2 * np.outer(Xt[i].T, Xt[i])\n"
     ]
    },
    {
     "name": "stdout",
     "output_type": "stream",
     "text": [
      "Step = 1, gradient norm = 2.9729563894862663\n",
      "Step = 2, gradient norm = 2.9729563894862663\n",
      "Step = 3, gradient norm = 2.9729563894862663\n",
      "Step = 4, gradient norm = 2.9729563894862663\n",
      "Step = 5, gradient norm = 2.9729563894862663\n",
      "Step = 6, gradient norm = 2.9729563894862663\n",
      "Step = 7, gradient norm = 2.9729563894862663\n",
      "Step = 8, gradient norm = 2.9729563894862663\n",
      "Step = 9, gradient norm = 2.9729563894862663\n",
      "Step = 10, gradient norm = 2.9729563894862663\n",
      "Step = 11, gradient norm = 2.9729563894862663\n",
      "Step = 12, gradient norm = 2.9729563894862663\n",
      "Step = 13, gradient norm = 2.9729563894862663\n",
      "Step = 14, gradient norm = 2.9729563894862663\n",
      "Step = 15, gradient norm = 2.9729563894862663\n",
      "Step = 16, gradient norm = 2.9729563894862663\n"
     ]
    },
    {
     "name": "stderr",
     "output_type": "stream",
     "text": [
      "<ipython-input-10-d1f25e96ee13>:4: RuntimeWarning: overflow encountered in exp\n",
      "  grad -= y[i] * Xt[i].T / (1 + np.exp(y[i] * np.dot(Xt[i], wt)))\n",
      "<ipython-input-10-d1f25e96ee13>:11: RuntimeWarning: overflow encountered in exp\n",
      "  hess += y[i]**2 / (1 + np.exp(y[i] *Xt[i] @ wt))**2 * np.outer(Xt[i].T, Xt[i])\n",
      "<ipython-input-2-8973a7a9d0d4>:5: RuntimeWarning: overflow encountered in exp\n",
      "  val += np.log(1 + np.exp(-y[i] * np.dot(Xt[i], wt)))\n"
     ]
    },
    {
     "name": "stdout",
     "output_type": "stream",
     "text": [
      "Step = 17, gradient norm = 2.9729563894862663\n",
      "Step = 18, gradient norm = 2.9729563894862663\n",
      "Step = 19, gradient norm = 2.9729563894862663\n",
      "Step = 20, gradient norm = 2.9729563894862663\n",
      "Step = 21, gradient norm = 2.9729563894862663\n",
      "Step = 22, gradient norm = 2.9729563894862663\n",
      "Step = 23, gradient norm = 2.9729563894862663\n",
      "Step = 24, gradient norm = 2.9729563894862663\n",
      "Step = 25, gradient norm = 2.9729563894862663\n",
      "Step = 26, gradient norm = 2.9729563894862663\n",
      "Step = 27, gradient norm = 2.9729563894862663\n",
      "Step = 28, gradient norm = 2.9729563894862663\n",
      "Step = 29, gradient norm = 2.9729563894862663\n",
      "Step = 30, gradient norm = 2.9729563894862663\n",
      "Step = 31, gradient norm = 2.9729563894862663\n",
      "Step = 32, gradient norm = 2.9729563894862663\n",
      "Step = 33, gradient norm = 2.9729563894862663\n",
      "Step = 34, gradient norm = 2.9729563894862663\n",
      "Step = 35, gradient norm = 2.9729563894862663\n",
      "Step = 36, gradient norm = 2.9729563894862663\n",
      "Step = 37, gradient norm = 2.9729563894862663\n",
      "Step = 38, gradient norm = 2.9729563894862663\n",
      "Step = 39, gradient norm = 2.9729563894862663\n",
      "Step = 40, gradient norm = 2.9729563894862663\n",
      "Step = 41, gradient norm = 2.9729563894862663\n",
      "Step = 42, gradient norm = 2.9729563894862663\n",
      "Step = 43, gradient norm = 2.9729563894862663\n",
      "Step = 44, gradient norm = 2.9729563894862663\n",
      "Step = 45, gradient norm = 2.9729563894862663\n",
      "Step = 46, gradient norm = 2.9729563894862663\n",
      "Step = 47, gradient norm = 2.9729563894862663\n",
      "Step = 48, gradient norm = 2.9729563894862663\n",
      "Step = 49, gradient norm = 2.9729563894862663\n",
      "Step = 50, gradient norm = 2.9729563894862663\n",
      "Step = 51, gradient norm = 2.9729563894862663\n",
      "Step = 52, gradient norm = 2.9729563894862663\n",
      "Step = 53, gradient norm = 2.9729563894862663\n",
      "Step = 54, gradient norm = 2.9729563894862663\n",
      "Step = 55, gradient norm = 2.9729563894862663\n",
      "Step = 56, gradient norm = 2.9729563894862663\n",
      "Step = 57, gradient norm = 2.9729563894862663\n",
      "Step = 58, gradient norm = 2.9729563894862663\n",
      "Step = 59, gradient norm = 2.9729563894862663\n",
      "Step = 60, gradient norm = 2.9729563894862663\n",
      "Step = 61, gradient norm = 2.9729563894862663\n",
      "Step = 62, gradient norm = 2.9729563894862663\n",
      "Step = 63, gradient norm = 2.9729563894862663\n",
      "Step = 64, gradient norm = 2.9729563894862663\n",
      "Step = 65, gradient norm = 2.9729563894862663\n",
      "Step = 66, gradient norm = 2.9729563894862663\n",
      "Step = 67, gradient norm = 2.9729563894862663\n",
      "Step = 68, gradient norm = 2.9729563894862663\n",
      "Step = 69, gradient norm = 2.9729563894862663\n",
      "Step = 70, gradient norm = 2.9729563894862663\n",
      "Step = 71, gradient norm = 2.9729563894862663\n",
      "Step = 72, gradient norm = 2.9729563894862663\n",
      "Step = 73, gradient norm = 2.9729563894862663\n",
      "Step = 74, gradient norm = 2.9729563894862663\n",
      "Step = 75, gradient norm = 2.9729563894862663\n",
      "Step = 76, gradient norm = 2.9729563894862663\n",
      "Step = 77, gradient norm = 2.9729563894862663\n",
      "Step = 78, gradient norm = 2.9729563894862663\n",
      "Step = 79, gradient norm = 2.9729563894862663\n",
      "Step = 80, gradient norm = 2.9729563894862663\n",
      "Step = 81, gradient norm = 2.9729563894862663\n",
      "Step = 82, gradient norm = 2.9729563894862663\n",
      "Step = 83, gradient norm = 2.9729563894862663\n",
      "Step = 84, gradient norm = 2.9729563894862663\n",
      "Step = 85, gradient norm = 2.9729563894862663\n",
      "Step = 86, gradient norm = 2.9729563894862663\n",
      "Step = 87, gradient norm = 2.9729563894862663\n",
      "Step = 88, gradient norm = 2.9729563894862663\n",
      "Step = 89, gradient norm = 2.9729563894862663\n",
      "Step = 90, gradient norm = 2.9729563894862663\n",
      "Step = 91, gradient norm = 2.9729563894862663\n",
      "Step = 92, gradient norm = 2.9729563894862663\n",
      "Step = 93, gradient norm = 2.9729563894862663\n",
      "Step = 94, gradient norm = 2.9729563894862663\n",
      "Step = 95, gradient norm = 2.9729563894862663\n",
      "Step = 96, gradient norm = 2.9729563894862663\n",
      "Step = 97, gradient norm = 2.9729563894862663\n",
      "Step = 98, gradient norm = 2.9729563894862663\n",
      "Step = 99, gradient norm = 2.9729563894862663\n",
      "Step = 100, gradient norm = 2.9729563894862663\n",
      "Step = 101, gradient norm = 2.9729563894862663\n",
      "Step = 102, gradient norm = 2.9729563894862663\n",
      "Step = 103, gradient norm = 2.9729563894862663\n",
      "Step = 104, gradient norm = 2.9729563894862663\n",
      "Step = 105, gradient norm = 2.9729563894862663\n",
      "Step = 106, gradient norm = 2.9729563894862663\n",
      "Step = 107, gradient norm = 2.9729563894862663\n",
      "Step = 108, gradient norm = 2.9729563894862663\n",
      "Step = 109, gradient norm = 2.9729563894862663\n",
      "Step = 110, gradient norm = 2.9729563894862663\n",
      "Step = 111, gradient norm = 2.9729563894862663\n",
      "Step = 112, gradient norm = 2.9729563894862663\n",
      "Step = 113, gradient norm = 2.9729563894862663\n",
      "Step = 114, gradient norm = 2.9729563894862663\n",
      "Step = 115, gradient norm = 2.9729563894862663\n",
      "Step = 116, gradient norm = 2.9729563894862663\n",
      "Step = 117, gradient norm = 2.9729563894862663\n",
      "Step = 118, gradient norm = 2.9729563894862663\n",
      "Step = 119, gradient norm = 2.9729563894862663\n",
      "Step = 120, gradient norm = 2.9729563894862663\n",
      "Step = 121, gradient norm = 2.9729563894862663\n",
      "Step = 122, gradient norm = 2.9729563894862663\n",
      "Step = 123, gradient norm = 2.9729563894862663\n",
      "Step = 124, gradient norm = 2.9729563894862663\n",
      "Step = 125, gradient norm = 2.9729563894862663\n",
      "Step = 126, gradient norm = 2.9729563894862663\n",
      "Step = 127, gradient norm = 2.9729563894862663\n",
      "Step = 128, gradient norm = 2.9729563894862663\n",
      "Step = 129, gradient norm = 2.9729563894862663\n",
      "Step = 130, gradient norm = 2.9729563894862663\n",
      "Step = 131, gradient norm = 2.9729563894862663\n",
      "Step = 132, gradient norm = 2.9729563894862663\n",
      "Step = 133, gradient norm = 2.9729563894862663\n",
      "Step = 134, gradient norm = 2.9729563894862663\n",
      "Step = 135, gradient norm = 2.9729563894862663\n",
      "Step = 136, gradient norm = 2.9729563894862663\n",
      "Step = 137, gradient norm = 2.9729563894862663\n",
      "Step = 138, gradient norm = 2.9729563894862663\n",
      "Step = 139, gradient norm = 2.9729563894862663\n",
      "Step = 140, gradient norm = 2.9729563894862663\n",
      "Step = 141, gradient norm = 2.9729563894862663\n",
      "Step = 142, gradient norm = 2.9729563894862663\n",
      "Step = 143, gradient norm = 2.9729563894862663\n",
      "Step = 144, gradient norm = 2.9729563894862663\n",
      "Step = 145, gradient norm = 2.9729563894862663\n",
      "Step = 146, gradient norm = 2.9729563894862663\n",
      "Step = 147, gradient norm = 2.9729563894862663\n",
      "Step = 148, gradient norm = 2.9729563894862663\n",
      "Step = 149, gradient norm = 2.9729563894862663\n",
      "Step = 150, gradient norm = 2.9729563894862663\n",
      "Step = 151, gradient norm = 2.9729563894862663\n",
      "Step = 152, gradient norm = 2.9729563894862663\n",
      "Step = 153, gradient norm = 2.9729563894862663\n",
      "Step = 154, gradient norm = 2.9729563894862663\n",
      "Step = 155, gradient norm = 2.9729563894862663\n",
      "Step = 156, gradient norm = 2.9729563894862663\n",
      "Step = 157, gradient norm = 2.9729563894862663\n",
      "Step = 158, gradient norm = 2.9729563894862663\n",
      "Step = 159, gradient norm = 2.9729563894862663\n",
      "Step = 160, gradient norm = 2.9729563894862663\n",
      "Step = 161, gradient norm = 2.9729563894862663\n",
      "Step = 162, gradient norm = 2.9729563894862663\n",
      "Step = 163, gradient norm = 2.9729563894862663\n",
      "Step = 164, gradient norm = 2.9729563894862663\n",
      "Step = 165, gradient norm = 2.9729563894862663\n",
      "Step = 166, gradient norm = 2.9729563894862663\n",
      "Step = 167, gradient norm = 2.9729563894862663\n",
      "Step = 168, gradient norm = 2.9729563894862663\n",
      "Step = 169, gradient norm = 2.9729563894862663\n",
      "Step = 170, gradient norm = 2.9729563894862663\n",
      "Step = 171, gradient norm = 2.9729563894862663\n",
      "Step = 172, gradient norm = 2.9729563894862663\n",
      "Step = 173, gradient norm = 2.9729563894862663\n",
      "Step = 174, gradient norm = 2.9729563894862663\n",
      "Step = 175, gradient norm = 2.9729563894862663\n",
      "Step = 176, gradient norm = 2.9729563894862663\n",
      "Step = 177, gradient norm = 2.9729563894862663\n",
      "Step = 178, gradient norm = 2.9729563894862663\n",
      "Step = 179, gradient norm = 2.9729563894862663\n",
      "Step = 180, gradient norm = 2.9729563894862663\n",
      "Step = 181, gradient norm = 2.9729563894862663\n",
      "Step = 182, gradient norm = 2.9729563894862663\n",
      "Step = 183, gradient norm = 2.9729563894862663\n",
      "Step = 184, gradient norm = 2.9729563894862663\n",
      "Step = 185, gradient norm = 2.9729563894862663\n",
      "Step = 186, gradient norm = 2.9729563894862663\n",
      "Step = 187, gradient norm = 2.9729563894862663\n",
      "Step = 188, gradient norm = 2.9729563894862663\n",
      "Step = 189, gradient norm = 2.9729563894862663\n",
      "Step = 190, gradient norm = 2.9729563894862663\n",
      "Step = 191, gradient norm = 2.9729563894862663\n",
      "Step = 192, gradient norm = 2.9729563894862663\n",
      "Step = 193, gradient norm = 2.9729563894862663\n"
     ]
    },
    {
     "name": "stdout",
     "output_type": "stream",
     "text": [
      "Step = 194, gradient norm = 2.9729563894862663\n",
      "Step = 195, gradient norm = 2.9729563894862663\n",
      "Step = 196, gradient norm = 2.9729563894862663\n",
      "Step = 197, gradient norm = 2.9729563894862663\n",
      "Step = 198, gradient norm = 2.9729563894862663\n",
      "Step = 199, gradient norm = 2.9729563894862663\n",
      "Step = 200, gradient norm = 2.9729563894862663\n",
      "Step = 201, gradient norm = 2.9729563894862663\n",
      "Step = 202, gradient norm = 2.9729563894862663\n",
      "Step = 203, gradient norm = 2.9729563894862663\n",
      "Step = 204, gradient norm = 2.9729563894862663\n",
      "Step = 205, gradient norm = 2.9729563894862663\n",
      "Step = 206, gradient norm = 2.9729563894862663\n",
      "Step = 207, gradient norm = 2.9729563894862663\n",
      "Step = 208, gradient norm = 2.9729563894862663\n",
      "Step = 209, gradient norm = 2.9729563894862663\n",
      "Step = 210, gradient norm = 2.9729563894862663\n",
      "Step = 211, gradient norm = 2.9729563894862663\n",
      "Step = 212, gradient norm = 2.9729563894862663\n",
      "Step = 213, gradient norm = 2.9729563894862663\n",
      "Step = 214, gradient norm = 2.9729563894862663\n",
      "Step = 215, gradient norm = 2.9729563894862663\n",
      "Step = 216, gradient norm = 2.9729563894862663\n",
      "Step = 217, gradient norm = 2.9729563894862663\n",
      "Step = 218, gradient norm = 2.9729563894862663\n",
      "Step = 219, gradient norm = 2.9729563894862663\n",
      "Step = 220, gradient norm = 2.9729563894862663\n",
      "Step = 221, gradient norm = 2.9729563894862663\n",
      "Step = 222, gradient norm = 2.9729563894862663\n",
      "Step = 223, gradient norm = 2.9729563894862663\n",
      "Step = 224, gradient norm = 2.9729563894862663\n",
      "Step = 225, gradient norm = 2.9729563894862663\n",
      "Step = 226, gradient norm = 2.9729563894862663\n",
      "Step = 227, gradient norm = 2.9729563894862663\n",
      "Step = 228, gradient norm = 2.9729563894862663\n",
      "Step = 229, gradient norm = 2.9729563894862663\n",
      "Step = 230, gradient norm = 2.9729563894862663\n",
      "Step = 231, gradient norm = 2.9729563894862663\n",
      "Step = 232, gradient norm = 2.9729563894862663\n"
     ]
    },
    {
     "ename": "KeyboardInterrupt",
     "evalue": "",
     "output_type": "error",
     "traceback": [
      "\u001b[1;31m---------------------------------------------------------------------------\u001b[0m",
      "\u001b[1;31mKeyboardInterrupt\u001b[0m                         Traceback (most recent call last)",
      "\u001b[1;32m<ipython-input-12-097aa56c2d41>\u001b[0m in \u001b[0;36m<module>\u001b[1;34m\u001b[0m\n\u001b[1;32m----> 1\u001b[1;33m proximal_gradient_descent(x0=np.ones((Xt.shape[1], )),\n\u001b[0m\u001b[0;32m      2\u001b[0m                           \u001b[0meps\u001b[0m\u001b[1;33m=\u001b[0m\u001b[1;36m10\u001b[0m\u001b[1;33m**\u001b[0m\u001b[1;33m-\u001b[0m\u001b[1;36m4\u001b[0m\u001b[1;33m,\u001b[0m\u001b[1;33m\u001b[0m\u001b[1;33m\u001b[0m\u001b[0m\n\u001b[0;32m      3\u001b[0m                           step=0.7)\n",
      "\u001b[1;32m<ipython-input-11-ff1340eaacad>\u001b[0m in \u001b[0;36mproximal_gradient_descent\u001b[1;34m(x0, eps, step)\u001b[0m\n\u001b[0;32m      6\u001b[0m     \u001b[1;32mwhile\u001b[0m \u001b[0mnorm\u001b[0m \u001b[1;33m>\u001b[0m \u001b[0meps\u001b[0m\u001b[1;33m:\u001b[0m\u001b[1;33m\u001b[0m\u001b[1;33m\u001b[0m\u001b[0m\n\u001b[0;32m      7\u001b[0m         \u001b[0mk\u001b[0m \u001b[1;33m+=\u001b[0m \u001b[1;36m1\u001b[0m\u001b[1;33m\u001b[0m\u001b[1;33m\u001b[0m\u001b[0m\n\u001b[1;32m----> 8\u001b[1;33m         \u001b[0mgrad\u001b[0m \u001b[1;33m=\u001b[0m \u001b[0mgrad_f2\u001b[0m\u001b[1;33m(\u001b[0m\u001b[0mxk\u001b[0m\u001b[1;33m)\u001b[0m \u001b[1;33m;\u001b[0m \u001b[0mhess\u001b[0m \u001b[1;33m=\u001b[0m \u001b[0mhess_f2\u001b[0m\u001b[1;33m(\u001b[0m\u001b[0mxk\u001b[0m\u001b[1;33m)\u001b[0m\u001b[1;33m\u001b[0m\u001b[1;33m\u001b[0m\u001b[0m\n\u001b[0m\u001b[0;32m      9\u001b[0m         \u001b[0mgamma_k\u001b[0m \u001b[1;33m=\u001b[0m \u001b[0mline_search\u001b[0m\u001b[1;33m(\u001b[0m\u001b[0mxk\u001b[0m\u001b[1;33m,\u001b[0m \u001b[0mgrad\u001b[0m\u001b[1;33m,\u001b[0m \u001b[0mhess\u001b[0m\u001b[1;33m,\u001b[0m \u001b[0mstep\u001b[0m\u001b[1;33m)\u001b[0m\u001b[1;33m\u001b[0m\u001b[1;33m\u001b[0m\u001b[0m\n\u001b[0;32m     10\u001b[0m         \u001b[0mxk\u001b[0m \u001b[1;33m=\u001b[0m \u001b[0mprox_g2\u001b[0m\u001b[1;33m(\u001b[0m\u001b[0mxk\u001b[0m \u001b[1;33m-\u001b[0m \u001b[0mgamma_k\u001b[0m \u001b[1;33m*\u001b[0m \u001b[0mgrad\u001b[0m\u001b[1;33m)\u001b[0m\u001b[1;33m\u001b[0m\u001b[1;33m\u001b[0m\u001b[0m\n",
      "\u001b[1;32m<ipython-input-10-d1f25e96ee13>\u001b[0m in \u001b[0;36mhess_f2\u001b[1;34m(wt)\u001b[0m\n\u001b[0;32m      9\u001b[0m     \u001b[0mhess\u001b[0m \u001b[1;33m=\u001b[0m \u001b[0mnp\u001b[0m\u001b[1;33m.\u001b[0m\u001b[0mzeros\u001b[0m\u001b[1;33m(\u001b[0m\u001b[1;33m(\u001b[0m\u001b[0mlen\u001b[0m\u001b[1;33m(\u001b[0m\u001b[0mwt\u001b[0m\u001b[1;33m)\u001b[0m\u001b[1;33m,\u001b[0m \u001b[0mlen\u001b[0m\u001b[1;33m(\u001b[0m\u001b[0mwt\u001b[0m\u001b[1;33m)\u001b[0m\u001b[1;33m)\u001b[0m\u001b[1;33m)\u001b[0m\u001b[1;33m\u001b[0m\u001b[1;33m\u001b[0m\u001b[0m\n\u001b[0;32m     10\u001b[0m     \u001b[1;32mfor\u001b[0m \u001b[0mi\u001b[0m \u001b[1;32min\u001b[0m \u001b[0mrange\u001b[0m\u001b[1;33m(\u001b[0m\u001b[0mn\u001b[0m\u001b[1;33m)\u001b[0m\u001b[1;33m:\u001b[0m\u001b[1;33m\u001b[0m\u001b[1;33m\u001b[0m\u001b[0m\n\u001b[1;32m---> 11\u001b[1;33m         \u001b[0mhess\u001b[0m \u001b[1;33m+=\u001b[0m \u001b[0my\u001b[0m\u001b[1;33m[\u001b[0m\u001b[0mi\u001b[0m\u001b[1;33m]\u001b[0m\u001b[1;33m**\u001b[0m\u001b[1;36m2\u001b[0m \u001b[1;33m/\u001b[0m \u001b[1;33m(\u001b[0m\u001b[1;36m1\u001b[0m \u001b[1;33m+\u001b[0m \u001b[0mnp\u001b[0m\u001b[1;33m.\u001b[0m\u001b[0mexp\u001b[0m\u001b[1;33m(\u001b[0m\u001b[0my\u001b[0m\u001b[1;33m[\u001b[0m\u001b[0mi\u001b[0m\u001b[1;33m]\u001b[0m \u001b[1;33m*\u001b[0m\u001b[0mXt\u001b[0m\u001b[1;33m[\u001b[0m\u001b[0mi\u001b[0m\u001b[1;33m]\u001b[0m \u001b[1;33m@\u001b[0m \u001b[0mwt\u001b[0m\u001b[1;33m)\u001b[0m\u001b[1;33m)\u001b[0m\u001b[1;33m**\u001b[0m\u001b[1;36m2\u001b[0m \u001b[1;33m*\u001b[0m \u001b[0mnp\u001b[0m\u001b[1;33m.\u001b[0m\u001b[0mouter\u001b[0m\u001b[1;33m(\u001b[0m\u001b[0mXt\u001b[0m\u001b[1;33m[\u001b[0m\u001b[0mi\u001b[0m\u001b[1;33m]\u001b[0m\u001b[1;33m.\u001b[0m\u001b[0mT\u001b[0m\u001b[1;33m,\u001b[0m \u001b[0mXt\u001b[0m\u001b[1;33m[\u001b[0m\u001b[0mi\u001b[0m\u001b[1;33m]\u001b[0m\u001b[1;33m)\u001b[0m\u001b[1;33m\u001b[0m\u001b[1;33m\u001b[0m\u001b[0m\n\u001b[0m\u001b[0;32m     12\u001b[0m     \u001b[0mhess\u001b[0m \u001b[1;33m/=\u001b[0m \u001b[0mn\u001b[0m\u001b[1;33m\u001b[0m\u001b[1;33m\u001b[0m\u001b[0m\n\u001b[0;32m     13\u001b[0m     \u001b[1;32mreturn\u001b[0m \u001b[0mhess\u001b[0m\u001b[1;33m\u001b[0m\u001b[1;33m\u001b[0m\u001b[0m\n",
      "\u001b[1;32m<__array_function__ internals>\u001b[0m in \u001b[0;36mouter\u001b[1;34m(*args, **kwargs)\u001b[0m\n",
      "\u001b[1;32m~\\anaconda3\\lib\\site-packages\\numpy\\core\\numeric.py\u001b[0m in \u001b[0;36mouter\u001b[1;34m(a, b, out)\u001b[0m\n\u001b[0;32m    940\u001b[0m     \u001b[0ma\u001b[0m \u001b[1;33m=\u001b[0m \u001b[0masarray\u001b[0m\u001b[1;33m(\u001b[0m\u001b[0ma\u001b[0m\u001b[1;33m)\u001b[0m\u001b[1;33m\u001b[0m\u001b[1;33m\u001b[0m\u001b[0m\n\u001b[0;32m    941\u001b[0m     \u001b[0mb\u001b[0m \u001b[1;33m=\u001b[0m \u001b[0masarray\u001b[0m\u001b[1;33m(\u001b[0m\u001b[0mb\u001b[0m\u001b[1;33m)\u001b[0m\u001b[1;33m\u001b[0m\u001b[1;33m\u001b[0m\u001b[0m\n\u001b[1;32m--> 942\u001b[1;33m     \u001b[1;32mreturn\u001b[0m \u001b[0mmultiply\u001b[0m\u001b[1;33m(\u001b[0m\u001b[0ma\u001b[0m\u001b[1;33m.\u001b[0m\u001b[0mravel\u001b[0m\u001b[1;33m(\u001b[0m\u001b[1;33m)\u001b[0m\u001b[1;33m[\u001b[0m\u001b[1;33m:\u001b[0m\u001b[1;33m,\u001b[0m \u001b[0mnewaxis\u001b[0m\u001b[1;33m]\u001b[0m\u001b[1;33m,\u001b[0m \u001b[0mb\u001b[0m\u001b[1;33m.\u001b[0m\u001b[0mravel\u001b[0m\u001b[1;33m(\u001b[0m\u001b[1;33m)\u001b[0m\u001b[1;33m[\u001b[0m\u001b[0mnewaxis\u001b[0m\u001b[1;33m,\u001b[0m \u001b[1;33m:\u001b[0m\u001b[1;33m]\u001b[0m\u001b[1;33m,\u001b[0m \u001b[0mout\u001b[0m\u001b[1;33m)\u001b[0m\u001b[1;33m\u001b[0m\u001b[1;33m\u001b[0m\u001b[0m\n\u001b[0m\u001b[0;32m    943\u001b[0m \u001b[1;33m\u001b[0m\u001b[0m\n\u001b[0;32m    944\u001b[0m \u001b[1;33m\u001b[0m\u001b[0m\n",
      "\u001b[1;31mKeyboardInterrupt\u001b[0m: "
     ]
    }
   ],
   "source": [
    "proximal_gradient_descent(x0=np.ones((Xt.shape[1], )),\n",
    "                          eps=10**-4,\n",
    "                          step=0.7)"
   ]
  },
  {
   "cell_type": "code",
   "execution_count": null,
   "id": "551e06d1",
   "metadata": {},
   "outputs": [],
   "source": []
  },
  {
   "cell_type": "code",
   "execution_count": null,
   "id": "55c91bd3",
   "metadata": {},
   "outputs": [],
   "source": []
  },
  {
   "cell_type": "code",
   "execution_count": null,
   "id": "d2833fb1",
   "metadata": {},
   "outputs": [],
   "source": []
  },
  {
   "cell_type": "code",
   "execution_count": null,
   "id": "c588b4b2",
   "metadata": {},
   "outputs": [],
   "source": []
  },
  {
   "cell_type": "code",
   "execution_count": null,
   "id": "b29be91a",
   "metadata": {},
   "outputs": [],
   "source": []
  },
  {
   "cell_type": "code",
   "execution_count": null,
   "id": "386bfca0",
   "metadata": {},
   "outputs": [],
   "source": []
  },
  {
   "cell_type": "code",
   "execution_count": null,
   "id": "9c634f38",
   "metadata": {},
   "outputs": [],
   "source": []
  }
 ],
 "metadata": {
  "kernelspec": {
   "display_name": "Python 3",
   "language": "python",
   "name": "python3"
  },
  "language_info": {
   "codemirror_mode": {
    "name": "ipython",
    "version": 3
   },
   "file_extension": ".py",
   "mimetype": "text/x-python",
   "name": "python",
   "nbconvert_exporter": "python",
   "pygments_lexer": "ipython3",
   "version": "3.8.8"
  }
 },
 "nbformat": 4,
 "nbformat_minor": 5
}
