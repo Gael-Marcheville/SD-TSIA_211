{
 "cells": [
  {
   "cell_type": "markdown",
   "id": "0a08e4f8",
   "metadata": {},
   "source": [
    "# TP SD-TSIA211\n",
    "##### Lécluse Simon & Marcheville Gaël"
   ]
  },
  {
   "cell_type": "markdown",
   "id": "0e3e7787",
   "metadata": {},
   "source": [
    "## 3. Tikhonov regularization"
   ]
  },
  {
   "cell_type": "markdown",
   "id": "997d227f",
   "metadata": {},
   "source": [
    "### Question 3.1"
   ]
  },
  {
   "cell_type": "markdown",
   "id": "c66cd85a",
   "metadata": {},
   "source": [
    "The partial derivative of $f_1$ with respect to $w_0$ is :\n",
    "\n",
    "$$\\frac{\\partial f_1}{\\partial w_0} = \\frac{1}{n} \\sum_{i=1}^{n} -\\frac{y_i}{1+\\exp(y_i(x_i^Tw+w_0))}$$\n",
    "\n",
    "The partial derivative of $f_1$ with respect to $w_i$ is :\n",
    "\n",
    "$$\\frac{\\partial f_1}{\\partial w_i} = \\frac{1}{n} \\sum_{i=1}^{n} -\\frac{y_i x_i . e_i}{1+\\exp(y_i(x_i^Tw+w_0))} + \\rho w_i$$\n",
    "\n",
    "Où $e_i$ est le vecteur dont toutes les composantes sont nulles sauf la $i_{ème}$ qui vaut 1. Ainsi le gradient de $f_1$ vaut :\n",
    "\n",
    "$$\\nabla f_1(\\tilde{w}) = \\frac{1}{n} \\sum_{i=0}^{n} -\\frac{y_i \\tilde{x_i}}{1+\\exp(y_i(\\tilde{x_i}^T \\tilde{w}))} + \\rho \\tilde w $$\n",
    "\n",
    "Avec $\\tilde w = (w_0, w_1, ..., w_p)$  et  $ \\tilde x_i = (1, x_{i, 1}, ... x_{i, p}) $"
   ]
  },
  {
   "cell_type": "markdown",
   "id": "b1632a2a",
   "metadata": {},
   "source": [
    " "
   ]
  },
  {
   "cell_type": "markdown",
   "id": "105aab55",
   "metadata": {},
   "source": [
    "La matrice Hessienne de la fonction f1 par rapport à w0 et w peut être calculée de la manière suivante :\n",
    "\n",
    "$$H_{f1}(w_0,w) = \\begin{bmatrix} \\frac{\\partial^2f1}{\\partial w_0^2} & \\frac{\\partial^2f1}{\\partial w_0 \\partial w} \\\\ \\frac{\\partial^2f_1}{\\partial w \\partial w_0} & \\frac{\\partial^2f1}{\\partial w^2} \\end{bmatrix}$$\n",
    "\n",
    "Avec :\n",
    "\n",
    "$$\\frac{\\partial^2f_1}{\\partial w_0^2} = \\frac{1}{n} \\sum_{i=1}^{n} \\frac{y_i^2\\exp(y_i(x_i^Tw+w_0))}{(1+\\exp(y_i(x_i^Tw+w_0)))^2}$$\n",
    "\n",
    "$$\\frac{\\partial^2f_1}{\\partial w \\partial w_0} = \\frac{1}{n} \\sum_{i=1}^{n} \\frac{y_i^2x_i\\exp(y_i(x_i^Tw+w_0))}{(1+\\exp(y_i(x_i^Tw+w_0)))^2}$$\n",
    "\n",
    "$$\\frac{\\partial^2f_1}{\\partial w^2} = \\frac{1}{n} \\sum_{i=1}^{n} \\frac{y_i^2x_i^2\\exp(y_i(x_i^Tw+w_0))}{(1+\\exp(y_i(x_i^Tw+w_0)))^2} + \\rho I$$\n"
   ]
  },
  {
   "cell_type": "markdown",
   "id": "0d30428c",
   "metadata": {},
   "source": [
    "### Question 3.2"
   ]
  },
  {
   "cell_type": "code",
   "execution_count": 10,
   "id": "bdfa4fc6",
   "metadata": {},
   "outputs": [],
   "source": [
    "import numpy as np\n",
    "\n",
    "# Calcul de la valeur de f1\n",
    "def f1(w, w0, X, y, rho):\n",
    "    n = len(y)\n",
    "    f1 = 0\n",
    "    for i in range(n):\n",
    "        f1 += (1/n) * np.log(1 + np.exp(-y[i] * (np.dot(X[i], w) + w0)))\n",
    "    f1 += rho/2 * np.dot(w, w)\n",
    "    return f1\n",
    "    \n",
    "# Calcul du gradient de f1\n",
    "def grad_f1(w, w0, X, y, rho):\n",
    "    n = len(y)\n",
    "    grad = np.zeros(2)\n",
    "    for i in range(n):\n",
    "        grad[0] += (-y[i] / (1 + np.exp(y[i] * (np.dot(X[i], w) + w0))))\n",
    "        grad[1] += (-y[i] * X[i] / (1 + np.exp(y[i] * (np.dot(X[i], w) + w0))))\n",
    "    grad /= n\n",
    "    grad[1] += rho * w\n",
    "    return grad\n",
    "    \n",
    "# Calcul de la matrice Hessienne de f1\n",
    "def hess_f1(w, w0, X, y, rho):\n",
    "    n = len(y)\n",
    "    hess = np.zeros((2,2))\n",
    "    \n",
    "    for i in range(n):\n",
    "        hess[0,0] += y[i]**2 * np.exp(y[i] * (np.dot(X[i], w) + w0)) / (1 + np.exp(y[i] * (np.dot(X[i], w) + w0)))**2\n",
    "        hess[1,0] += y[i]**2 * X[i] * np.exp(y[i] * (np.dot(X[i], w) + w0)) / (1 + np.exp(y[i] * (np.dot(X[i], w) + w0)))**2\n",
    "        hess[1,1] += y[i]**2 * np.outer(X[i], X[i]) * np.exp(y[i] * (np.dot(X[i], w) + w0)) / (1 + np.exp(y[i] * (np.dot(X[i], w) + w0)))**2\n",
    "    \n",
    "    hess[0,1] += hess[1,0]\n",
    "    hess /= n\n",
    "    hess[1,1] += rho * np.eye(w.shape[0])\n",
    "    \n",
    "    return hess"
   ]
  },
  {
   "cell_type": "code",
   "execution_count": 11,
   "id": "fadd07d3",
   "metadata": {},
   "outputs": [
    {
     "ename": "ValueError",
     "evalue": "shapes (576,) and (10000,576) not aligned: 576 (dim 0) != 10000 (dim 0)",
     "output_type": "error",
     "traceback": [
      "\u001b[1;31m---------------------------------------------------------------------------\u001b[0m",
      "\u001b[1;31mValueError\u001b[0m                                Traceback (most recent call last)",
      "\u001b[1;32m<ipython-input-11-96b1ab9f6e83>\u001b[0m in \u001b[0;36m<module>\u001b[1;34m\u001b[0m\n\u001b[0;32m     18\u001b[0m     \u001b[1;32mreturn\u001b[0m \u001b[0mhess_f1\u001b[0m\u001b[1;33m(\u001b[0m\u001b[0mw\u001b[0m\u001b[1;33m,\u001b[0m \u001b[0mw0\u001b[0m\u001b[1;33m,\u001b[0m \u001b[0mX\u001b[0m\u001b[1;33m,\u001b[0m \u001b[0my\u001b[0m\u001b[1;33m,\u001b[0m \u001b[0mrho\u001b[0m\u001b[1;33m)\u001b[0m\u001b[1;33m\u001b[0m\u001b[1;33m\u001b[0m\u001b[0m\n\u001b[0;32m     19\u001b[0m \u001b[1;33m\u001b[0m\u001b[0m\n\u001b[1;32m---> 20\u001b[1;33m \u001b[0mscipy\u001b[0m\u001b[1;33m.\u001b[0m\u001b[0moptimize\u001b[0m\u001b[1;33m.\u001b[0m\u001b[0mcheck_grad\u001b[0m\u001b[1;33m(\u001b[0m\u001b[0mf1_exemple\u001b[0m\u001b[1;33m,\u001b[0m \u001b[0mgrad_f1_exemple\u001b[0m\u001b[1;33m,\u001b[0m \u001b[0mX\u001b[0m\u001b[1;33m)\u001b[0m\u001b[1;33m\u001b[0m\u001b[1;33m\u001b[0m\u001b[0m\n\u001b[0m",
      "\u001b[1;32m~\\anaconda3\\lib\\site-packages\\scipy\\optimize\\optimize.py\u001b[0m in \u001b[0;36mcheck_grad\u001b[1;34m(func, grad, x0, *args, **kwargs)\u001b[0m\n\u001b[0;32m    935\u001b[0m         raise ValueError(\"Unknown keyword arguments: %r\" %\n\u001b[0;32m    936\u001b[0m                          (list(kwargs.keys()),))\n\u001b[1;32m--> 937\u001b[1;33m     return sqrt(sum((grad(x0, *args) -\n\u001b[0m\u001b[0;32m    938\u001b[0m                      approx_fprime(x0, func, step, *args))**2))\n\u001b[0;32m    939\u001b[0m \u001b[1;33m\u001b[0m\u001b[0m\n",
      "\u001b[1;32m<ipython-input-11-96b1ab9f6e83>\u001b[0m in \u001b[0;36mgrad_f1_exemple\u001b[1;34m(w)\u001b[0m\n\u001b[0;32m     13\u001b[0m \u001b[1;33m\u001b[0m\u001b[0m\n\u001b[0;32m     14\u001b[0m \u001b[1;32mdef\u001b[0m \u001b[0mgrad_f1_exemple\u001b[0m\u001b[1;33m(\u001b[0m\u001b[0mw\u001b[0m\u001b[1;33m)\u001b[0m \u001b[1;33m:\u001b[0m\u001b[1;33m\u001b[0m\u001b[1;33m\u001b[0m\u001b[0m\n\u001b[1;32m---> 15\u001b[1;33m     \u001b[1;32mreturn\u001b[0m \u001b[0mgrad_f1\u001b[0m\u001b[1;33m(\u001b[0m\u001b[0mw\u001b[0m\u001b[1;33m,\u001b[0m \u001b[0mw0\u001b[0m\u001b[1;33m,\u001b[0m \u001b[0mX\u001b[0m\u001b[1;33m,\u001b[0m \u001b[0my\u001b[0m\u001b[1;33m,\u001b[0m \u001b[0mrho\u001b[0m\u001b[1;33m)\u001b[0m\u001b[1;33m\u001b[0m\u001b[1;33m\u001b[0m\u001b[0m\n\u001b[0m\u001b[0;32m     16\u001b[0m \u001b[1;33m\u001b[0m\u001b[0m\n\u001b[0;32m     17\u001b[0m \u001b[1;32mdef\u001b[0m \u001b[0mhess_f1_exemple\u001b[0m\u001b[1;33m(\u001b[0m\u001b[0mw\u001b[0m\u001b[1;33m)\u001b[0m \u001b[1;33m:\u001b[0m\u001b[1;33m\u001b[0m\u001b[1;33m\u001b[0m\u001b[0m\n",
      "\u001b[1;32m<ipython-input-10-2c852f6e337e>\u001b[0m in \u001b[0;36mgrad_f1\u001b[1;34m(w, w0, X, y, rho)\u001b[0m\n\u001b[0;32m     15\u001b[0m     \u001b[0mgrad\u001b[0m \u001b[1;33m=\u001b[0m \u001b[0mnp\u001b[0m\u001b[1;33m.\u001b[0m\u001b[0mzeros\u001b[0m\u001b[1;33m(\u001b[0m\u001b[1;36m2\u001b[0m\u001b[1;33m)\u001b[0m\u001b[1;33m\u001b[0m\u001b[1;33m\u001b[0m\u001b[0m\n\u001b[0;32m     16\u001b[0m     \u001b[1;32mfor\u001b[0m \u001b[0mi\u001b[0m \u001b[1;32min\u001b[0m \u001b[0mrange\u001b[0m\u001b[1;33m(\u001b[0m\u001b[0mn\u001b[0m\u001b[1;33m)\u001b[0m\u001b[1;33m:\u001b[0m\u001b[1;33m\u001b[0m\u001b[1;33m\u001b[0m\u001b[0m\n\u001b[1;32m---> 17\u001b[1;33m         \u001b[0mgrad\u001b[0m\u001b[1;33m[\u001b[0m\u001b[1;36m0\u001b[0m\u001b[1;33m]\u001b[0m \u001b[1;33m+=\u001b[0m \u001b[1;33m(\u001b[0m\u001b[1;33m-\u001b[0m\u001b[0my\u001b[0m\u001b[1;33m[\u001b[0m\u001b[0mi\u001b[0m\u001b[1;33m]\u001b[0m \u001b[1;33m/\u001b[0m \u001b[1;33m(\u001b[0m\u001b[1;36m1\u001b[0m \u001b[1;33m+\u001b[0m \u001b[0mnp\u001b[0m\u001b[1;33m.\u001b[0m\u001b[0mexp\u001b[0m\u001b[1;33m(\u001b[0m\u001b[0my\u001b[0m\u001b[1;33m[\u001b[0m\u001b[0mi\u001b[0m\u001b[1;33m]\u001b[0m \u001b[1;33m*\u001b[0m \u001b[1;33m(\u001b[0m\u001b[0mnp\u001b[0m\u001b[1;33m.\u001b[0m\u001b[0mdot\u001b[0m\u001b[1;33m(\u001b[0m\u001b[0mX\u001b[0m\u001b[1;33m[\u001b[0m\u001b[0mi\u001b[0m\u001b[1;33m]\u001b[0m\u001b[1;33m,\u001b[0m \u001b[0mw\u001b[0m\u001b[1;33m)\u001b[0m \u001b[1;33m+\u001b[0m \u001b[0mw0\u001b[0m\u001b[1;33m)\u001b[0m\u001b[1;33m)\u001b[0m\u001b[1;33m)\u001b[0m\u001b[1;33m)\u001b[0m\u001b[1;33m\u001b[0m\u001b[1;33m\u001b[0m\u001b[0m\n\u001b[0m\u001b[0;32m     18\u001b[0m         \u001b[0mgrad\u001b[0m\u001b[1;33m[\u001b[0m\u001b[1;36m1\u001b[0m\u001b[1;33m]\u001b[0m \u001b[1;33m+=\u001b[0m \u001b[1;33m(\u001b[0m\u001b[1;33m-\u001b[0m\u001b[0my\u001b[0m\u001b[1;33m[\u001b[0m\u001b[0mi\u001b[0m\u001b[1;33m]\u001b[0m \u001b[1;33m*\u001b[0m \u001b[0mX\u001b[0m\u001b[1;33m[\u001b[0m\u001b[0mi\u001b[0m\u001b[1;33m]\u001b[0m \u001b[1;33m/\u001b[0m \u001b[1;33m(\u001b[0m\u001b[1;36m1\u001b[0m \u001b[1;33m+\u001b[0m \u001b[0mnp\u001b[0m\u001b[1;33m.\u001b[0m\u001b[0mexp\u001b[0m\u001b[1;33m(\u001b[0m\u001b[0my\u001b[0m\u001b[1;33m[\u001b[0m\u001b[0mi\u001b[0m\u001b[1;33m]\u001b[0m \u001b[1;33m*\u001b[0m \u001b[1;33m(\u001b[0m\u001b[0mnp\u001b[0m\u001b[1;33m.\u001b[0m\u001b[0mdot\u001b[0m\u001b[1;33m(\u001b[0m\u001b[0mX\u001b[0m\u001b[1;33m[\u001b[0m\u001b[0mi\u001b[0m\u001b[1;33m]\u001b[0m\u001b[1;33m,\u001b[0m \u001b[0mw\u001b[0m\u001b[1;33m)\u001b[0m \u001b[1;33m+\u001b[0m \u001b[0mw0\u001b[0m\u001b[1;33m)\u001b[0m\u001b[1;33m)\u001b[0m\u001b[1;33m)\u001b[0m\u001b[1;33m)\u001b[0m\u001b[1;33m\u001b[0m\u001b[1;33m\u001b[0m\u001b[0m\n\u001b[0;32m     19\u001b[0m     \u001b[0mgrad\u001b[0m \u001b[1;33m/=\u001b[0m \u001b[0mn\u001b[0m\u001b[1;33m\u001b[0m\u001b[1;33m\u001b[0m\u001b[0m\n",
      "\u001b[1;32m<__array_function__ internals>\u001b[0m in \u001b[0;36mdot\u001b[1;34m(*args, **kwargs)\u001b[0m\n",
      "\u001b[1;31mValueError\u001b[0m: shapes (576,) and (10000,576) not aligned: 576 (dim 0) != 10000 (dim 0)"
     ]
    }
   ],
   "source": [
    "import tp_reglog_utils as utils\n",
    "import scipy\n",
    "\n",
    "data = utils.load_data(\"tfidf_matrix_97MB.npz\", \"feature_names_97MB.npy\")\n",
    "\n",
    "X = data[0]\n",
    "y = data[1]\n",
    "rho = 1/len(y)\n",
    "w0 = 1\n",
    "\n",
    "def f1_exemple(w) : \n",
    "    return f1(w, w0, X, y, rho)\n",
    "\n",
    "def grad_f1_exemple(w) : \n",
    "    return grad_f1(w, w0, X, y, rho)\n",
    "\n",
    "def hess_f1_exemple(w) : \n",
    "    return hess_f1(w, w0, X, y, rho)\n",
    "\n",
    "scipy.optimize.check_grad(f1_exemple, grad_f1_exemple, X)\n"
   ]
  },
  {
   "cell_type": "code",
   "execution_count": 52,
   "id": "a233db2f",
   "metadata": {},
   "outputs": [
    {
     "ename": "ValueError",
     "evalue": "could not broadcast input array from shape (577,) into shape (10000,)",
     "output_type": "error",
     "traceback": [
      "\u001b[1;31m---------------------------------------------------------------------------\u001b[0m",
      "\u001b[1;31mValueError\u001b[0m                                Traceback (most recent call last)",
      "\u001b[1;32m<ipython-input-52-775c60fa05ed>\u001b[0m in \u001b[0;36m<module>\u001b[1;34m\u001b[0m\n\u001b[0;32m      1\u001b[0m \u001b[0mX1\u001b[0m \u001b[1;33m=\u001b[0m \u001b[0mnp\u001b[0m\u001b[1;33m.\u001b[0m\u001b[0mzeros\u001b[0m\u001b[1;33m(\u001b[0m\u001b[1;33m(\u001b[0m\u001b[0mX\u001b[0m\u001b[1;33m.\u001b[0m\u001b[0mshape\u001b[0m\u001b[1;33m[\u001b[0m\u001b[1;36m0\u001b[0m\u001b[1;33m]\u001b[0m\u001b[1;33m,\u001b[0m \u001b[0mX\u001b[0m\u001b[1;33m.\u001b[0m\u001b[0mshape\u001b[0m\u001b[1;33m[\u001b[0m\u001b[1;36m1\u001b[0m\u001b[1;33m]\u001b[0m\u001b[1;33m+\u001b[0m\u001b[1;36m1\u001b[0m\u001b[1;33m)\u001b[0m\u001b[1;33m)\u001b[0m\u001b[1;33m\u001b[0m\u001b[1;33m\u001b[0m\u001b[0m\n\u001b[1;32m----> 2\u001b[1;33m \u001b[0mX1\u001b[0m\u001b[1;33m[\u001b[0m\u001b[1;33m:\u001b[0m\u001b[1;33m,\u001b[0m \u001b[1;36m0\u001b[0m\u001b[1;33m]\u001b[0m \u001b[1;33m=\u001b[0m \u001b[0mnp\u001b[0m\u001b[1;33m.\u001b[0m\u001b[0mones\u001b[0m\u001b[1;33m(\u001b[0m\u001b[1;33m(\u001b[0m\u001b[1;36m1\u001b[0m\u001b[1;33m,\u001b[0m \u001b[0mX1\u001b[0m\u001b[1;33m.\u001b[0m\u001b[0mshape\u001b[0m\u001b[1;33m[\u001b[0m\u001b[1;36m1\u001b[0m\u001b[1;33m]\u001b[0m\u001b[1;33m)\u001b[0m\u001b[1;33m)\u001b[0m\u001b[1;33m\u001b[0m\u001b[1;33m\u001b[0m\u001b[0m\n\u001b[0m\u001b[0;32m      3\u001b[0m \u001b[0mX1\u001b[0m\u001b[1;33m[\u001b[0m\u001b[1;33m:\u001b[0m\u001b[1;33m,\u001b[0m\u001b[1;36m1\u001b[0m\u001b[1;33m:\u001b[0m\u001b[1;33m]\u001b[0m \u001b[1;33m=\u001b[0m \u001b[0mX\u001b[0m\u001b[1;33m\u001b[0m\u001b[1;33m\u001b[0m\u001b[0m\n",
      "\u001b[1;31mValueError\u001b[0m: could not broadcast input array from shape (577,) into shape (10000,)"
     ]
    }
   ],
   "source": []
  },
  {
   "cell_type": "code",
   "execution_count": 43,
   "id": "b426ef30",
   "metadata": {},
   "outputs": [
    {
     "data": {
      "text/plain": [
       "(10001, 576)"
      ]
     },
     "execution_count": 43,
     "metadata": {},
     "output_type": "execute_result"
    }
   ],
   "source": []
  },
  {
   "cell_type": "code",
   "execution_count": 54,
   "id": "ba33fd4e",
   "metadata": {},
   "outputs": [
    {
     "data": {
      "text/plain": [
       "(10000,)"
      ]
     },
     "execution_count": 54,
     "metadata": {},
     "output_type": "execute_result"
    }
   ],
   "source": []
  },
  {
   "cell_type": "code",
   "execution_count": null,
   "id": "865e65be",
   "metadata": {},
   "outputs": [],
   "source": []
  }
 ],
 "metadata": {
  "kernelspec": {
   "display_name": "Python 3",
   "language": "python",
   "name": "python3"
  },
  "language_info": {
   "codemirror_mode": {
    "name": "ipython",
    "version": 3
   },
   "file_extension": ".py",
   "mimetype": "text/x-python",
   "name": "python",
   "nbconvert_exporter": "python",
   "pygments_lexer": "ipython3",
   "version": "3.8.8"
  }
 },
 "nbformat": 4,
 "nbformat_minor": 5
}
