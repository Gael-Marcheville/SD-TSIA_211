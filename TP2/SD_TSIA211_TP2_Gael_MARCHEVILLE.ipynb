{
 "cells": [
  {
   "cell_type": "markdown",
   "id": "0407d2fe",
   "metadata": {},
   "source": [
    "# Computer Lab SD-TSIA 211: Digit recognition"
   ]
  },
  {
   "cell_type": "code",
   "execution_count": 1,
   "id": "8504c616",
   "metadata": {},
   "outputs": [],
   "source": [
    "import numpy as np\n",
    "import tensorflow as tf\n",
    "from tensorflow import keras\n",
    "from tensorflow.keras import layers\n",
    "import matplotlib.pyplot as plt"
   ]
  },
  {
   "cell_type": "code",
   "execution_count": 139,
   "id": "773c1396",
   "metadata": {},
   "outputs": [
    {
     "name": "stdout",
     "output_type": "stream",
     "text": [
      "5\n"
     ]
    },
    {
     "data": {
      "text/plain": [
       "<matplotlib.image.AxesImage at 0x189aa130640>"
      ]
     },
     "execution_count": 139,
     "metadata": {},
     "output_type": "execute_result"
    },
    {
     "data": {
      "image/png": "[encoded data removed]",
      "text/plain": [
       "<Figure size 432x288 with 1 Axes>"
      ]
     },
     "metadata": {
      "needs_background": "light"
     },
     "output_type": "display_data"
    }
   ],
   "source": [
    "train_data, test_data = tf.keras.datasets.mnist.load_data(path=\"mnist.npz\")\n",
    "x_train = train_data[0].reshape(-1,784).astype(float) / 255\n",
    "y_train = train_data[1]\n",
    "x_test = test_data[0].reshape(-1,784).astype(float) / 255\n",
    "y_test = test_data[1]\n",
    "print(y_train[0])\n",
    "plt.imshow(train_data[0][0], cmap='gray')"
   ]
  },
  {
   "cell_type": "markdown",
   "id": "02342062",
   "metadata": {},
   "source": [
    "## 4) Model"
   ]
  },
  {
   "cell_type": "code",
   "execution_count": 3,
   "id": "4b521b78",
   "metadata": {},
   "outputs": [
    {
     "name": "stdout",
     "output_type": "stream",
     "text": [
      "Model: \"mnist_model\"\n",
      "_________________________________________________________________\n",
      " Layer (type)                Output Shape              Param #   \n",
      "=================================================================\n",
      " digits (InputLayer)         [(None, 784)]             0         \n",
      "                                                                 \n",
      " dense_1 (Dense)             (None, 32)                25120     \n",
      "                                                                 \n",
      " dense_2 (Dense)             (None, 32)                1056      \n",
      "                                                                 \n",
      " predictions (Dense)         (None, 10)                330       \n",
      "                                                                 \n",
      "=================================================================\n",
      "Total params: 26,506\n",
      "Trainable params: 26,506\n",
      "Non-trainable params: 0\n",
      "_________________________________________________________________\n"
     ]
    }
   ],
   "source": [
    "# source: https://keras.io/guides/training_with_built_in_methods/\n",
    "\n",
    "inputs = keras.Input(shape=(784,), name=\"digits\")\n",
    "x = layers.Dense(32, activation=\"relu\", name=\"dense_1\")(inputs)\n",
    "x = layers.Dense(32, activation=\"relu\", name=\"dense_2\")(x)\n",
    "outputs = layers.Dense(10, activation=None, name=\"predictions\")(x)\n",
    "model = keras.Model(inputs=inputs, outputs=outputs, name=\"mnist_model\")\n",
    "loss = keras.losses.SparseCategoricalCrossentropy(from_logits=True)\n",
    "#def loss(true, pred):\n",
    "#    val = 0.\n",
    "#    for i in range(len(true)):\n",
    "#        val -= np.log(pred[i, true[i]])\n",
    "#    return val / len(true)\n",
    "model.summary()"
   ]
  },
  {
   "cell_type": "markdown",
   "id": "acfd8325",
   "metadata": {},
   "source": [
    "There are 26,506 optimization variables that we are going to train using this model"
   ]
  },
  {
   "cell_type": "markdown",
   "id": "f70aa7c8",
   "metadata": {},
   "source": [
    "## 5) Stochastic gradient descent"
   ]
  },
  {
   "cell_type": "markdown",
   "id": "ceaab8c9",
   "metadata": {},
   "source": [
    "### model initialization"
   ]
  },
  {
   "cell_type": "code",
   "execution_count": 129,
   "id": "349e9482",
   "metadata": {},
   "outputs": [
    {
     "name": "stdout",
     "output_type": "stream",
     "text": [
      "Model: \"mnist_model\"\n",
      "_________________________________________________________________\n",
      " Layer (type)                Output Shape              Param #   \n",
      "=================================================================\n",
      " digits (InputLayer)         [(None, 784)]             0         \n",
      "                                                                 \n",
      " dense_1 (Dense)             (None, 32)                25120     \n",
      "                                                                 \n",
      " dense_2 (Dense)             (None, 32)                1056      \n",
      "                                                                 \n",
      " predictions (Dense)         (None, 10)                330       \n",
      "                                                                 \n",
      "=================================================================\n",
      "Total params: 26,506\n",
      "Trainable params: 26,506\n",
      "Non-trainable params: 0\n",
      "_________________________________________________________________\n"
     ]
    }
   ],
   "source": [
    "# source: https://keras.io/guides/training_with_built_in_methods/\n",
    "\n",
    "inputs = keras.Input(shape=(784,), name=\"digits\")\n",
    "x = layers.Dense(32, activation=\"relu\", name=\"dense_1\")(inputs)\n",
    "x = layers.Dense(32, activation=\"relu\", name=\"dense_2\")(x)\n",
    "outputs = layers.Dense(10, activation=None, name=\"predictions\")(x)\n",
    "model = keras.Model(inputs=inputs, outputs=outputs, name=\"mnist_model\")\n",
    "loss = keras.losses.SparseCategoricalCrossentropy(from_logits=True)\n",
    "model.summary()"
   ]
  },
  {
   "cell_type": "code",
   "execution_count": 130,
   "id": "c44056cc",
   "metadata": {},
   "outputs": [
    {
     "data": {
      "text/plain": [
       "2.3137066"
      ]
     },
     "execution_count": 130,
     "metadata": {},
     "output_type": "execute_result"
    }
   ],
   "source": [
    "samples_for_evaluation = np.random.randint(0, 10000, 1000)\n",
    "logits = model(x_train[samples_for_evaluation])\n",
    "loss(y_train[samples_for_evaluation], logits).numpy()"
   ]
  },
  {
   "cell_type": "markdown",
   "id": "a708e1ba",
   "metadata": {},
   "source": [
    "### Implementation of the stochastic gradient descent for the resolution of the neural network model"
   ]
  },
  {
   "cell_type": "code",
   "execution_count": 131,
   "id": "635a8806",
   "metadata": {},
   "outputs": [],
   "source": [
    "def update_weights(model, grad, step_size):\n",
    "    new_weights = model.trainable_weights.copy()\n",
    "    for i in range(len(new_weights)):\n",
    "        new_weights[i] = new_weights[i] - step_size*grad[i]\n",
    "    model.set_weights(new_weights)"
   ]
  },
  {
   "cell_type": "code",
   "execution_count": 132,
   "id": "1ba54737",
   "metadata": {},
   "outputs": [],
   "source": [
    "def compute_grad(x_batch, y_batch, model, batch_size):\n",
    "    with tf.GradientTape() as tape:\n",
    "            logits = model(x_batch)  \n",
    "            loss_value = loss(y_batch, logits)\n",
    "    return tape.gradient(loss_value, model.trainable_weights)"
   ]
  },
  {
   "cell_type": "code",
   "execution_count": 133,
   "id": "b3845cef",
   "metadata": {},
   "outputs": [],
   "source": [
    "def SGD(model, x_train, y_train, sample_for_eval, batch_size = 50, gamma0 = 0.5, verbose = False):\n",
    "    losses = []\n",
    "    k = 1\n",
    "    indexs = np.split(np.random.choice(len(y_train),len(y_train),replace=False),len(y_train)//batch_size)\n",
    "    for index in indexs :\n",
    "        gamma = gamma0/np.sqrt(k)\n",
    "        grad = compute_grad(x_train[index],y_train[index],model,batch_size)\n",
    "        update_weights(model, grad, gamma)\n",
    "        k += 1\n",
    "        logits = model(x_train[samples_for_evaluation])\n",
    "        losses.append(loss(y_train[samples_for_evaluation], logits).numpy())\n",
    "    return losses"
   ]
  },
  {
   "cell_type": "markdown",
   "id": "877a8174",
   "metadata": {},
   "source": [
    "### Run for one pass over the data "
   ]
  },
  {
   "cell_type": "code",
   "execution_count": 134,
   "id": "9d9bf5cc",
   "metadata": {},
   "outputs": [
    {
     "data": {
      "text/plain": [
       "2.3137066"
      ]
     },
     "execution_count": 134,
     "metadata": {},
     "output_type": "execute_result"
    }
   ],
   "source": [
    "logits = model(x_train[samples_for_evaluation])\n",
    "loss(y_train[samples_for_evaluation], logits).numpy()"
   ]
  },
  {
   "cell_type": "code",
   "execution_count": 135,
   "id": "f6207566",
   "metadata": {},
   "outputs": [
    {
     "name": "stdout",
     "output_type": "stream",
     "text": [
      "Wall time: 1min 27s\n"
     ]
    }
   ],
   "source": [
    "%%time\n",
    "sample = np.random.randint(0, 10000, 1000)\n",
    "losses = SGD(model, x_train, y_train, sample, 16)"
   ]
  },
  {
   "cell_type": "markdown",
   "id": "2f74fe3d",
   "metadata": {},
   "source": [
    "### Plot of the objective value as a function of the iterations"
   ]
  },
  {
   "cell_type": "code",
   "execution_count": 136,
   "id": "cf2d54f7",
   "metadata": {},
   "outputs": [
    {
     "name": "stdout",
     "output_type": "stream",
     "text": [
      "Loss value :\n",
      "0.23030277\n"
     ]
    },
    {
     "data": {
      "image/png": "[encoded data removed]",
      "text/plain": [
       "<Figure size 432x288 with 1 Axes>"
      ]
     },
     "metadata": {
      "needs_background": "light"
     },
     "output_type": "display_data"
    }
   ],
   "source": [
    "plt.title(\"Loss function of epochs\")\n",
    "plt.plot(losses)\n",
    "print(\"Loss value :\")\n",
    "print(losses[len(losses)-1])"
   ]
  },
  {
   "cell_type": "markdown",
   "id": "a3d4c6c3",
   "metadata": {},
   "source": [
    "## 6) Empirical risk minization"
   ]
  },
  {
   "cell_type": "code",
   "execution_count": 123,
   "id": "8941c8f2",
   "metadata": {},
   "outputs": [
    {
     "name": "stdout",
     "output_type": "stream",
     "text": [
      "Model: \"mnist_model\"\n",
      "_________________________________________________________________\n",
      " Layer (type)                Output Shape              Param #   \n",
      "=================================================================\n",
      " digits (InputLayer)         [(None, 784)]             0         \n",
      "                                                                 \n",
      " dense_1 (Dense)             (None, 32)                25120     \n",
      "                                                                 \n",
      " dense_2 (Dense)             (None, 32)                1056      \n",
      "                                                                 \n",
      " predictions (Dense)         (None, 10)                330       \n",
      "                                                                 \n",
      "=================================================================\n",
      "Total params: 26,506\n",
      "Trainable params: 26,506\n",
      "Non-trainable params: 0\n",
      "_________________________________________________________________\n"
     ]
    }
   ],
   "source": [
    "# source: https://keras.io/guides/training_with_built_in_methods/\n",
    "\n",
    "inputs = keras.Input(shape=(784,), name=\"digits\")\n",
    "x = layers.Dense(32, activation=\"relu\", name=\"dense_1\")(inputs)\n",
    "x = layers.Dense(32, activation=\"relu\", name=\"dense_2\")(x)\n",
    "outputs = layers.Dense(10, activation=None, name=\"predictions\")(x)\n",
    "model = keras.Model(inputs=inputs, outputs=outputs, name=\"mnist_model\")\n",
    "loss = keras.losses.SparseCategoricalCrossentropy(from_logits=True)\n",
    "model.summary()"
   ]
  },
  {
   "cell_type": "code",
   "execution_count": 124,
   "id": "aebc1ae7",
   "metadata": {},
   "outputs": [],
   "source": [
    "def SGD2(model, x_train, y_train, sample_for_eval, n_epochs, batch_size, gamma0 = 0.5):   \n",
    "    e_steps, e_losses = [], []\n",
    "    for epoch in range(1, n_epochs+1):\n",
    "        losses = SGD(model, x_train, y_train, sample_for_eval, batch_size, gamma0)\n",
    "        e_steps.append([k for k in range (len(losses))])\n",
    "        e_losses.append(losses)\n",
    "    return (e_steps, e_losses)"
   ]
  },
  {
   "cell_type": "code",
   "execution_count": 127,
   "id": "dd1b6f73",
   "metadata": {},
   "outputs": [
    {
     "name": "stdout",
     "output_type": "stream",
     "text": [
      "Wall time: 54 s\n"
     ]
    }
   ],
   "source": [
    "%%time\n",
    "sample = np.random.randint(0, 10000, 1000)\n",
    "e_steps, e_losses = SGD2(model, x_train, y_train, sample, n_epochs=10, batch_size=300)"
   ]
  },
  {
   "cell_type": "code",
   "execution_count": 128,
   "id": "6a54222e",
   "metadata": {},
   "outputs": [
    {
     "data": {
      "image/png": "[encoded data removed]",
      "text/plain": [
       "<Figure size 720x432 with 1 Axes>"
      ]
     },
     "metadata": {
      "needs_background": "light"
     },
     "output_type": "display_data"
    },
    {
     "name": "stdout",
     "output_type": "stream",
     "text": [
      "Loss value :\n",
      "0.14038323\n"
     ]
    }
   ],
   "source": [
    "fig = plt.figure(figsize=(10, 6))\n",
    "all_losses = np.array(e_losses).flatten()\n",
    "plt.plot(all_losses)\n",
    "plt.xticks(ticks=np.arange(0, all_losses.shape[0]+1, len(e_losses[0])), labels=np.arange(len(e_losses)+1))\n",
    "plt.yscale(\"log\")\n",
    "plt.title(\"Crossentropy loss vs epochs\")\n",
    "plt.xlabel(\"Epoch\")\n",
    "plt.ylabel(\"Loss function value\")\n",
    "plt.show()\n",
    "print(\"Loss value :\")\n",
    "print(all_losses[len(all_losses)-1])"
   ]
  },
  {
   "cell_type": "markdown",
   "id": "4a65ecb7",
   "metadata": {},
   "source": [
    "With several epochs, we have a better result in less time.\n",
    "The advantage of this method is to converge more quickly towards a good solution."
   ]
  },
  {
   "cell_type": "markdown",
   "id": "a2007103",
   "metadata": {},
   "source": [
    "## 7) Evaluation of the model"
   ]
  },
  {
   "cell_type": "code",
   "execution_count": 142,
   "id": "8714d1c4",
   "metadata": {},
   "outputs": [
    {
     "name": "stdout",
     "output_type": "stream",
     "text": [
      "accuracy on the train set: 0.9266\n"
     ]
    }
   ],
   "source": [
    "acc = keras.metrics.SparseCategoricalAccuracy()\n",
    "acc.update_state(y_train, model(x_train))\n",
    "print(\"accuracy on the train set: \" + str(acc.result().numpy()))"
   ]
  },
  {
   "cell_type": "code",
   "execution_count": 143,
   "id": "518edd1e",
   "metadata": {},
   "outputs": [
    {
     "name": "stdout",
     "output_type": "stream",
     "text": [
      "accuracy on the test set: 0.92672855\n"
     ]
    }
   ],
   "source": [
    "acc.update_state(y_test, model(x_test))\n",
    "print(\"accuracy on the test set: \" + str(acc.result().numpy()))"
   ]
  },
  {
   "cell_type": "markdown",
   "id": "6b1d9a2a",
   "metadata": {},
   "source": [
    "The train and test data set precisions are very close. It's a bit surprising, usually the accuracy of the test is a bit lower."
   ]
  }
 ],
 "metadata": {
  "kernelspec": {
   "display_name": "Python 3",
   "language": "python",
   "name": "python3"
  },
  "language_info": {
   "codemirror_mode": {
    "name": "ipython",
    "version": 3
   },
   "file_extension": ".py",
   "mimetype": "text/x-python",
   "name": "python",
   "nbconvert_exporter": "python",
   "pygments_lexer": "ipython3",
   "version": "3.8.8"
  }
 },
 "nbformat": 4,
 "nbformat_minor": 5
}
